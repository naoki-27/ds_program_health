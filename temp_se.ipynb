{
 "cells": [
  {
   "cell_type": "code",
   "execution_count": 6,
   "metadata": {},
   "outputs": [],
   "source": [
    "from selenium import webdriver\n",
    "from selenium.webdriver.common.by import By\n",
    "from bs4 import BeautifulSoup\n",
    "import requests\n",
    "import time\n",
    "from selenium.webdriver.support.ui import Select\n",
    "import pandas as pd\n",
    "from selenium.webdriver.support.ui import Select,WebDriverWait\n",
    "from selenium.webdriver.support import expected_conditions as EC\n",
    "from selenium.common.exceptions import NoSuchElementException\n",
    "from selenium.common.exceptions import TimeoutException\n",
    "import re"
   ]
  },
  {
   "cell_type": "code",
   "execution_count": 7,
   "metadata": {},
   "outputs": [],
   "source": [
    "# ブラウザをheadlessモード実行\n",
    "options = webdriver.ChromeOptions()\n",
    "#ヘッドレスモード（バックグラウンドで起動）で実行。コラボの場合、必須。\n",
    "options.add_argument('--headless')\n",
    "#サンドボックスモードの解除。これも必須。\n",
    "options.add_argument('--no-sandbox')\n",
    "#これも設定した方がよい。\n",
    "options.add_argument('--disable-dev-shm-usage')\n",
    "wait = WebDriverWait(options,10)"
   ]
  },
  {
   "cell_type": "code",
   "execution_count": null,
   "metadata": {},
   "outputs": [],
   "source": [
    "driver = webdriver.Chrome()\n",
    "#指定したドライバーが見つかるまで待機\n",
    "driver.implicitly_wait(10)\n",
    "\n",
    "#urlの指定\n",
    "url=\"https://www.google.co.jp/\"\n",
    "\n",
    "driver.get(url)\n",
    "time.sleep(3)\n",
    "\n",
    "print(\"サイトのタイトル：\", driver.title)"
   ]
  },
  {
   "cell_type": "code",
   "execution_count": 3,
   "metadata": {},
   "outputs": [
    {
     "name": "stdout",
     "output_type": "stream",
     "text": [
      "[{'day': '1', 'hpa': '1012.3', 'temp_ave': '8.7', 'temp_max': '12.6', 'temp_min': '6.4', 'humidity_ave': '54', 'humidity_min': '37', 'sun': '5.4'}, {'day': '2', 'hpa': '1015.6', 'temp_ave': '8.3', 'temp_max': '13.1', 'temp_min': '4.1', 'humidity_ave': '60', 'humidity_min': '37', 'sun': '8.7'}, {'day': '3', 'hpa': '1015.5', 'temp_ave': '9.1', 'temp_max': '15.2', 'temp_min': '4.1', 'humidity_ave': '58', 'humidity_min': '36', 'sun': '8.3'}, {'day': '4', 'hpa': '1018.2', 'temp_ave': '8.7', 'temp_max': '14.3', 'temp_min': '4.7', 'humidity_ave': '53', 'humidity_min': '31', 'sun': '8.8'}, {'day': '5', 'hpa': '1016.3', 'temp_ave': '8.1', 'temp_max': '10.3', 'temp_min': '5.7', 'humidity_ave': '64', 'humidity_min': '53', 'sun': '0.0'}, {'day': '6', 'hpa': '1008.8', 'temp_ave': '11.4', 'temp_max': '16.4', 'temp_min': '7.1', 'humidity_ave': '77', 'humidity_min': '48', 'sun': '7.0'}, {'day': '7', 'hpa': '1004.1', 'temp_ave': '12.9', 'temp_max': '19.9', 'temp_min': '7.1', 'humidity_ave': '60', 'humidity_min': '30', 'sun': '8.8'}, {'day': '8', 'hpa': '1016.3', 'temp_ave': '12.3', 'temp_max': '17.8', 'temp_min': '6.0', 'humidity_ave': '49', 'humidity_min': '32', 'sun': '8.0'}, {'day': '9', 'hpa': '1017.0', 'temp_ave': '11.9', 'temp_max': '17.2', 'temp_min': '6.4', 'humidity_ave': '66', 'humidity_min': '49', 'sun': '8.3'}, {'day': '10', 'hpa': '1018.5', 'temp_ave': '13.0', 'temp_max': '19.7', 'temp_min': '7.2', 'humidity_ave': '65', 'humidity_min': '41', 'sun': '8.8'}, {'day': '11', 'hpa': '1019.6', 'temp_ave': '13.4', 'temp_max': '16.0', 'temp_min': '11.3', 'humidity_ave': '74', 'humidity_min': '61', 'sun': '0.0'}, {'day': '12', 'hpa': '1007.6', 'temp_ave': '11.9', 'temp_max': '15.4', 'temp_min': '9.7', 'humidity_ave': '92', 'humidity_min': '65', 'sun': '1.4'}, {'day': '13', 'hpa': '1021.2', 'temp_ave': '10.8', 'temp_max': '15.1', 'temp_min': '7.3', 'humidity_ave': '52', 'humidity_min': '27', 'sun': '8.9'}, {'day': '14', 'hpa': '1024.3', 'temp_ave': '10.2', 'temp_max': '14.1', 'temp_min': '6.5', 'humidity_ave': '62', 'humidity_min': '44', 'sun': '7.9'}, {'day': '15', 'hpa': '1011.8', 'temp_ave': '11.0', 'temp_max': '20.2', 'temp_min': '7.1', 'humidity_ave': '82', 'humidity_min': '65', 'sun': '0.0'}, {'day': '16', 'hpa': '1001.4', 'temp_ave': '17.0', 'temp_max': '21.1', 'temp_min': '10.8', 'humidity_ave': '71', 'humidity_min': '51', 'sun': '5.7'}, {'day': '17', 'hpa': '1007.5', 'temp_ave': '11.2', 'temp_max': '17.2', 'temp_min': '5.9', 'humidity_ave': '36', 'humidity_min': '20', 'sun': '8.3'}, {'day': '18', 'hpa': '1020.5', 'temp_ave': '7.0', 'temp_max': '11.5', 'temp_min': '3.8', 'humidity_ave': '36', 'humidity_min': '23', 'sun': '6.7'}, {'day': '19', 'hpa': '1020.2', 'temp_ave': '7.0', 'temp_max': '10.6', 'temp_min': '3.4', 'humidity_ave': '53', 'humidity_min': '35', 'sun': '3.3'}, {'day': '20', 'hpa': '1008.7', 'temp_ave': '8.5', 'temp_max': '13.5', 'temp_min': '4.6', 'humidity_ave': '59', 'humidity_min': '39', 'sun': '6.8'}, {'day': '21', 'hpa': '1008.3', 'temp_ave': '7.7', 'temp_max': '13.1', 'temp_min': '3.3', 'humidity_ave': '41', 'humidity_min': '21', 'sun': '9.0'}, {'day': '22', 'hpa': '1015.0', 'temp_ave': '5.3', 'temp_max': '10.1', 'temp_min': '1.5', 'humidity_ave': '38', 'humidity_min': '24', 'sun': '9.0'}, {'day': '23', 'hpa': '1023.8', 'temp_ave': '5.0', 'temp_max': '10.6', 'temp_min': '0.1', 'humidity_ave': '47', 'humidity_min': '24', 'sun': '9.0'}, {'day': '24', 'hpa': '1023.9', 'temp_ave': '4.9', 'temp_max': '8.8', 'temp_min': '2.0', 'humidity_ave': '55', 'humidity_min': '41', 'sun': '3.0'}, {'day': '25', 'hpa': '1018.2', 'temp_ave': '6.3', 'temp_max': '12.1', 'temp_min': '1.0', 'humidity_ave': '56', 'humidity_min': '35', 'sun': '8.8'}, {'day': '26', 'hpa': '1019.2', 'temp_ave': '7.6', 'temp_max': '13.2', 'temp_min': '2.6', 'humidity_ave': '58', 'humidity_min': '33', 'sun': '8.9'}, {'day': '27', 'hpa': '1022.5', 'temp_ave': '8.4', 'temp_max': '12.6', 'temp_min': '4.3', 'humidity_ave': '50', 'humidity_min': '39', 'sun': '4.4'}, {'day': '28', 'hpa': '1022.6', 'temp_ave': '7.0', 'temp_max': '10.8', 'temp_min': '4.4', 'humidity_ave': '56', 'humidity_min': '41', 'sun': '6.2'}, {'day': '29', 'hpa': '1018.2', 'temp_ave': '7.8', 'temp_max': '13.8', 'temp_min': '2.2', 'humidity_ave': '61', 'humidity_min': '37', 'sun': '8.9'}, {'day': '30', 'hpa': '1017.3', 'temp_ave': '9.0', 'temp_max': '14.4', 'temp_min': '4.4', 'humidity_ave': '63', 'humidity_min': '40', 'sun': '7.1'}, {'day': '31', 'hpa': '1004.0', 'temp_ave': '9.2', 'temp_max': '12.7', 'temp_min': '5.8', 'humidity_ave': '79', 'humidity_min': '62', 'sun': '3.7'}]\n"
     ]
    }
   ],
   "source": [
    "driver = webdriver.Chrome()\n",
    "#指定したドライバーが見つかるまで待機\n",
    "driver.implicitly_wait(10)\n",
    "\n",
    "#urlの指定\n",
    "url=\"https://www.data.jma.go.jp/stats/etrn/view/daily_s1.php?prec_no=44&block_no=47662&year=2023&month=12&day=&view=\"\n",
    "\n",
    "driver.get(url)\n",
    "time.sleep(3)\n",
    "\n",
    "weather_data_2023_12 = []\n",
    "\n",
    "for date in range(5, 36):\n",
    "    data = {}\n",
    "    \n",
    "    data['day'] = driver.find_element(By.XPATH, f'//*[@id=\"tablefix1\"]/tbody/tr[{date}]/td[1]/div/a').text\n",
    "    data['hpa'] = driver.find_element(By.XPATH, f'//*[@id=\"tablefix1\"]/tbody/tr[{date}]/td[2]').text\n",
    "    data['temp_ave'] = driver.find_element(By.XPATH, f'//*[@id=\"tablefix1\"]/tbody/tr[{date}]/td[7]').text\n",
    "    data['temp_max'] = driver.find_element(By.XPATH, f'//*[@id=\"tablefix1\"]/tbody/tr[{date}]/td[8]').text\n",
    "    data['temp_min'] = driver.find_element(By.XPATH, f'//*[@id=\"tablefix1\"]/tbody/tr[{date}]/td[9]').text\n",
    "    data['humidity_ave'] = driver.find_element(By.XPATH, f'//*[@id=\"tablefix1\"]/tbody/tr[{date}]/td[10]').text\n",
    "    data['humidity_min'] = driver.find_element(By.XPATH, f'//*[@id=\"tablefix1\"]/tbody/tr[{date}]/td[11]').text\n",
    "    data['sun'] = driver.find_element(By.XPATH, f'//*[@id=\"tablefix1\"]/tbody/tr[{date}]/td[17]').text\n",
    "    \n",
    "    weather_data_2023_12.append(data)\n",
    "\n",
    "print(weather_data_2023_12)"
   ]
  },
  {
   "cell_type": "code",
   "execution_count": 12,
   "metadata": {},
   "outputs": [
    {
     "name": "stdout",
     "output_type": "stream",
     "text": [
      "[{'day': '1', 'hpa': '1015.8', 'temp_ave': '9.2', 'temp_max': '12.5', 'temp_min': '4.4', 'humidity_ave': '48', 'humidity_min': '31', 'sun': '8.9'}, {'day': '2', 'hpa': '1017.4', 'temp_ave': '6.1', 'temp_max': '9.2', 'temp_min': '2.8', 'humidity_ave': '65', 'humidity_min': '45', 'sun': '1.7'}, {'day': '3', 'hpa': '1010.5', 'temp_ave': '7.4', 'temp_max': '11.0', 'temp_min': '2.8', 'humidity_ave': '72', 'humidity_min': '53', 'sun': '0.5'}, {'day': '4', 'hpa': '1009.9', 'temp_ave': '9.7', 'temp_max': '15.3', 'temp_min': '6.3', 'humidity_ave': '58', 'humidity_min': '31', 'sun': '6.6'}, {'day': '5', 'hpa': '1016.0', 'temp_ave': '7.4', 'temp_max': '13.6', 'temp_min': '2.9', 'humidity_ave': '57', 'humidity_min': '40', 'sun': '8.6'}, {'day': '6', 'hpa': '1009.3', 'temp_ave': '9.1', 'temp_max': '15.6', 'temp_min': '3.0', 'humidity_ave': '61', 'humidity_min': '39', 'sun': '8.9'}, {'day': '7', 'hpa': '1005.2', 'temp_ave': '8.3', 'temp_max': '12.7', 'temp_min': '5.7', 'humidity_ave': '53', 'humidity_min': '29', 'sun': '3.2'}, {'day': '8', 'hpa': '1014.7', 'temp_ave': '5.4', 'temp_max': '10.2', 'temp_min': '2.7', 'humidity_ave': '43', 'humidity_min': '19', 'sun': '8.8'}, {'day': '9', 'hpa': '1014.3', 'temp_ave': '5.4', 'temp_max': '11.0', 'temp_min': '1.5', 'humidity_ave': '49', 'humidity_min': '36', 'sun': '8.8'}, {'day': '10', 'hpa': '1009.6', 'temp_ave': '7.2', 'temp_max': '12.3', 'temp_min': '1.7', 'humidity_ave': '52', 'humidity_min': '37', 'sun': '6.5'}, {'day': '11', 'hpa': '1010.7', 'temp_ave': '4.8', 'temp_max': '7.2', 'temp_min': '1.8', 'humidity_ave': '51', 'humidity_min': '35', 'sun': '0.6'}, {'day': '12', 'hpa': '1006.1', 'temp_ave': '7.1', 'temp_max': '13.7', 'temp_min': '0.1', 'humidity_ave': '53', 'humidity_min': '38', 'sun': '9.0'}, {'day': '13', 'hpa': '1008.6', 'temp_ave': '5.9', 'temp_max': '11.7', 'temp_min': '1.2', 'humidity_ave': '59', 'humidity_min': '38', 'sun': '5.2'}, {'day': '14', 'hpa': '1016.9 )', 'temp_ave': '6.3 )', 'temp_max': '10.5 )', 'temp_min': '0.2 )', 'humidity_ave': '49 )', 'humidity_min': '35 )', 'sun': '9.1'}]\n"
     ]
    }
   ],
   "source": [
    "driver = webdriver.Chrome()\n",
    "#指定したドライバーが見つかるまで待機\n",
    "driver.implicitly_wait(10)\n",
    "\n",
    "#urlの指定\n",
    "url=\"https://www.data.jma.go.jp/stats/etrn/view/daily_s1.php?prec_no=44&block_no=47662&year=2024&month=1&day=&view=\"\n",
    "\n",
    "driver.get(url)\n",
    "time.sleep(3)\n",
    "\n",
    "weather_data_2024_1 = []\n",
    "\n",
    "for date in range(5, 19):\n",
    "    data = {}\n",
    "    \n",
    "    data['day'] = driver.find_element(By.XPATH, f'//*[@id=\"tablefix1\"]/tbody/tr[{date}]/td[1]/div/a').text\n",
    "    data['hpa'] = driver.find_element(By.XPATH, f'//*[@id=\"tablefix1\"]/tbody/tr[{date}]/td[2]').text\n",
    "    data['temp_ave'] = driver.find_element(By.XPATH, f'//*[@id=\"tablefix1\"]/tbody/tr[{date}]/td[7]').text\n",
    "    data['temp_max'] = driver.find_element(By.XPATH, f'//*[@id=\"tablefix1\"]/tbody/tr[{date}]/td[8]').text\n",
    "    data['temp_min'] = driver.find_element(By.XPATH, f'//*[@id=\"tablefix1\"]/tbody/tr[{date}]/td[9]').text\n",
    "    data['humidity_ave'] = driver.find_element(By.XPATH, f'//*[@id=\"tablefix1\"]/tbody/tr[{date}]/td[10]').text\n",
    "    data['humidity_min'] = driver.find_element(By.XPATH, f'//*[@id=\"tablefix1\"]/tbody/tr[{date}]/td[11]').text\n",
    "    data['sun'] = driver.find_element(By.XPATH, f'//*[@id=\"tablefix1\"]/tbody/tr[{date}]/td[17]').text\n",
    "    \n",
    "    weather_data_2024_1.append(data)\n",
    "\n",
    "print(weather_data_2024_1)"
   ]
  },
  {
   "cell_type": "code",
   "execution_count": 1,
   "metadata": {},
   "outputs": [],
   "source": [
    "import sqlite3"
   ]
  },
  {
   "cell_type": "code",
   "execution_count": 2,
   "metadata": {},
   "outputs": [
    {
     "name": "stdout",
     "output_type": "stream",
     "text": [
      "/Users/naoki/Lecture/ds_program_health\n"
     ]
    }
   ],
   "source": [
    "!pwd"
   ]
  },
  {
   "cell_type": "code",
   "execution_count": 7,
   "metadata": {},
   "outputs": [
    {
     "ename": "OperationalError",
     "evalue": "table weather12 already exists",
     "output_type": "error",
     "traceback": [
      "\u001b[0;31m---------------------------------------------------------------------------\u001b[0m",
      "\u001b[0;31mOperationalError\u001b[0m                          Traceback (most recent call last)",
      "Cell \u001b[0;32mIn[7], line 30\u001b[0m\n\u001b[1;32m     15\u001b[0m sql_create_table_DSprogHW \u001b[38;5;241m=\u001b[39m \u001b[38;5;124m'''\u001b[39m\n\u001b[1;32m     16\u001b[0m \u001b[38;5;124m    CREATE TABLE weather12 (\u001b[39m\n\u001b[1;32m     17\u001b[0m \u001b[38;5;124m        day INTEGER,\u001b[39m\n\u001b[0;32m   (...)\u001b[0m\n\u001b[1;32m     25\u001b[0m \u001b[38;5;124m    );\u001b[39m\n\u001b[1;32m     26\u001b[0m \u001b[38;5;124m'''\u001b[39m\n\u001b[1;32m     29\u001b[0m \u001b[38;5;66;03m# # 4．SQLを実行する\u001b[39;00m\n\u001b[0;32m---> 30\u001b[0m \u001b[43mcur\u001b[49m\u001b[38;5;241;43m.\u001b[39;49m\u001b[43mexecute\u001b[49m\u001b[43m(\u001b[49m\u001b[43msql_create_table_DSprogHW\u001b[49m\u001b[43m)\u001b[49m\n",
      "\u001b[0;31mOperationalError\u001b[0m: table weather12 already exists"
     ]
    }
   ],
   "source": [
    "# DBファイルを保存するためのファイルパス\n",
    "path = '/Users/naoki/Lecture/ds_program_health/'\n",
    "\n",
    "# DBファイル名\n",
    "db_name = 'weather12.sqlite'\n",
    "\n",
    "# DBに接続する\n",
    "con = sqlite3.connect(path + db_name)\n",
    "\n",
    "# SQLを実行するためのオブジェクトを取得\n",
    "cur = con.cursor()\n",
    "\n",
    "# テーブルを作成するSQL\n",
    "# # CREATE TABLE テーブル名（カラム名 型，...）;\n",
    "sql_create_table_DSprogHW = '''\n",
    "    CREATE TABLE weather12 (\n",
    "        day INTEGER,\n",
    "        hpa REAL,\n",
    "        temp_ave REAL,\n",
    "        temp_max REAL,\n",
    "        temp_min REAL,\n",
    "        humidity_ave INTEGER,\n",
    "        humidity_min INTEGER,\n",
    "        sun REAL\n",
    "    );\n",
    "'''\n",
    "\n",
    "\n",
    "# # 4．SQLを実行する\n",
    "cur.execute(sql_create_table_DSprogHW)"
   ]
  },
  {
   "cell_type": "code",
   "execution_count": 16,
   "metadata": {},
   "outputs": [
    {
     "data": {
      "text/plain": [
       "<sqlite3.Cursor at 0x1287278f0>"
      ]
     },
     "execution_count": 16,
     "metadata": {},
     "output_type": "execute_result"
    }
   ],
   "source": [
    "# DBファイルを保存するためのファイルパス\n",
    "path = '/Users/naoki/Lecture/ds_program_health/'\n",
    "\n",
    "# DBファイル名\n",
    "db_name = 'weather1.sqlite'\n",
    "\n",
    "# DBに接続する\n",
    "con = sqlite3.connect(path + db_name)\n",
    "\n",
    "# SQLを実行するためのオブジェクトを取得\n",
    "cur = con.cursor()\n",
    "\n",
    "# テーブルを作成するSQL\n",
    "# # CREATE TABLE テーブル名（カラム名 型，...）;\n",
    "sql_create_table_DSprogHW = '''\n",
    "    CREATE TABLE weather1 (\n",
    "        day INTEGER,\n",
    "        hpa REAL,\n",
    "        temp_ave REAL,\n",
    "        temp_max REAL,\n",
    "        temp_min REAL,\n",
    "        humidity_ave INTEGER,\n",
    "        humidity_min INTEGER,\n",
    "        sun REAL\n",
    "    );\n",
    "'''\n",
    "\n",
    "\n",
    "# # 4．SQLを実行する\n",
    "cur.execute(sql_create_table_DSprogHW)"
   ]
  },
  {
   "cell_type": "code",
   "execution_count": 8,
   "metadata": {},
   "outputs": [],
   "source": [
    "# データの挿入\n",
    "for data in weather_data_2023_12:\n",
    "    sql_insert_data = '''\n",
    "        INSERT INTO weather12 (day, hpa, temp_ave, temp_max, temp_min, humidity_ave, humidity_min, sun)\n",
    "        VALUES (?, ?, ?, ?, ?, ?, ?, ?);\n",
    "    '''\n",
    "    cur.execute(sql_insert_data, (data['day'], data['hpa'], data['temp_ave'], data['temp_max'], data['temp_min'], data['humidity_ave'], data['humidity_min'], data['sun']))\n",
    "\n",
    "# データベースの変更を保存\n",
    "con.commit()"
   ]
  },
  {
   "cell_type": "code",
   "execution_count": 11,
   "metadata": {},
   "outputs": [
    {
     "name": "stdout",
     "output_type": "stream",
     "text": [
      "(1, 1012.3, 8.7, 12.6, 6.4, 54, 37, 5.4)\n",
      "(2, 1015.6, 8.3, 13.1, 4.1, 60, 37, 8.7)\n",
      "(3, 1015.5, 9.1, 15.2, 4.1, 58, 36, 8.3)\n",
      "(4, 1018.2, 8.7, 14.3, 4.7, 53, 31, 8.8)\n",
      "(5, 1016.3, 8.1, 10.3, 5.7, 64, 53, 0.0)\n",
      "(6, 1008.8, 11.4, 16.4, 7.1, 77, 48, 7.0)\n",
      "(7, 1004.1, 12.9, 19.9, 7.1, 60, 30, 8.8)\n",
      "(8, 1016.3, 12.3, 17.8, 6.0, 49, 32, 8.0)\n",
      "(9, 1017.0, 11.9, 17.2, 6.4, 66, 49, 8.3)\n",
      "(10, 1018.5, 13.0, 19.7, 7.2, 65, 41, 8.8)\n",
      "(11, 1019.6, 13.4, 16.0, 11.3, 74, 61, 0.0)\n",
      "(12, 1007.6, 11.9, 15.4, 9.7, 92, 65, 1.4)\n",
      "(13, 1021.2, 10.8, 15.1, 7.3, 52, 27, 8.9)\n",
      "(14, 1024.3, 10.2, 14.1, 6.5, 62, 44, 7.9)\n",
      "(15, 1011.8, 11.0, 20.2, 7.1, 82, 65, 0.0)\n",
      "(16, 1001.4, 17.0, 21.1, 10.8, 71, 51, 5.7)\n",
      "(17, 1007.5, 11.2, 17.2, 5.9, 36, 20, 8.3)\n",
      "(18, 1020.5, 7.0, 11.5, 3.8, 36, 23, 6.7)\n",
      "(19, 1020.2, 7.0, 10.6, 3.4, 53, 35, 3.3)\n",
      "(20, 1008.7, 8.5, 13.5, 4.6, 59, 39, 6.8)\n",
      "(21, 1008.3, 7.7, 13.1, 3.3, 41, 21, 9.0)\n",
      "(22, 1015.0, 5.3, 10.1, 1.5, 38, 24, 9.0)\n",
      "(23, 1023.8, 5.0, 10.6, 0.1, 47, 24, 9.0)\n",
      "(24, 1023.9, 4.9, 8.8, 2.0, 55, 41, 3.0)\n",
      "(25, 1018.2, 6.3, 12.1, 1.0, 56, 35, 8.8)\n",
      "(26, 1019.2, 7.6, 13.2, 2.6, 58, 33, 8.9)\n",
      "(27, 1022.5, 8.4, 12.6, 4.3, 50, 39, 4.4)\n",
      "(28, 1022.6, 7.0, 10.8, 4.4, 56, 41, 6.2)\n",
      "(29, 1018.2, 7.8, 13.8, 2.2, 61, 37, 8.9)\n",
      "(30, 1017.3, 9.0, 14.4, 4.4, 63, 40, 7.1)\n",
      "(31, 1004.0, 9.2, 12.7, 5.8, 79, 62, 3.7)\n"
     ]
    }
   ],
   "source": [
    "# データを選択するSQLコマンド\n",
    "sql_select_data = 'SELECT * FROM weather;'\n",
    "cur.execute(sql_select_data)\n",
    "\n",
    "# すべての結果を取得\n",
    "all_results = cur.fetchall()\n",
    "\n",
    "# 結果を表示\n",
    "for result in all_results:\n",
    "    print(result)\n",
    "\n",
    "# データベース接続を閉じる\n",
    "con.close()"
   ]
  },
  {
   "cell_type": "code",
   "execution_count": 4,
   "metadata": {},
   "outputs": [],
   "source": [
    "# DBに接続する\n",
    "con = sqlite3.connect(path + db_name)\n",
    "\n",
    "# SQLを実行するためのオブジェクトを取得\n",
    "cur = con.cursor()"
   ]
  },
  {
   "cell_type": "code",
   "execution_count": 5,
   "metadata": {},
   "outputs": [
    {
     "data": {
      "text/plain": [
       "<sqlite3.Cursor at 0x1049de730>"
      ]
     },
     "execution_count": 5,
     "metadata": {},
     "output_type": "execute_result"
    }
   ],
   "source": [
    "# テーブルを削除するSQL文\n",
    "sql_drop_table = 'DROP TABLE IF EXISTS weather;'\n",
    "\n",
    "# テーブルを削除\n",
    "cur.execute(sql_drop_table)"
   ]
  },
  {
   "cell_type": "code",
   "execution_count": 3,
   "metadata": {},
   "outputs": [
    {
     "data": {
      "text/plain": [
       "<sqlite3.Cursor at 0x1049de490>"
      ]
     },
     "execution_count": 3,
     "metadata": {},
     "output_type": "execute_result"
    }
   ],
   "source": [
    "# DBファイルを保存するためのファイルパス\n",
    "path = '/Users/naoki/Lecture/ds_program_health/'\n",
    "\n",
    "# DBファイル名\n",
    "db_name = 'weather.sqlite'\n",
    "\n",
    "# DBに接続する\n",
    "con = sqlite3.connect(path + db_name)\n",
    "\n",
    "# SQLを実行するためのオブジェクトを取得\n",
    "cur = con.cursor()\n",
    "\n",
    "# テーブルを作成するSQL\n",
    "# # CREATE TABLE テーブル名（カラム名 型，...）;\n",
    "sql_create_table_DSprogHW = '''\n",
    "    CREATE TABLE weather (\n",
    "        day INTEGER,\n",
    "        hpa REAL,\n",
    "        temp_ave REAL,\n",
    "        temp_max REAL,\n",
    "        temp_min REAL,\n",
    "        humidity_ave INTEGER,\n",
    "        humidity_min INTEGER,\n",
    "        sun REAL\n",
    "    );\n",
    "'''\n",
    "\n",
    "\n",
    "# # 4．SQLを実行する\n",
    "cur.execute(sql_create_table_DSprogHW)"
   ]
  },
  {
   "cell_type": "code",
   "execution_count": null,
   "metadata": {},
   "outputs": [],
   "source": []
  }
 ],
 "metadata": {
  "kernelspec": {
   "display_name": "ds_program_health",
   "language": "python",
   "name": "python3"
  },
  "language_info": {
   "codemirror_mode": {
    "name": "ipython",
    "version": 3
   },
   "file_extension": ".py",
   "mimetype": "text/x-python",
   "name": "python",
   "nbconvert_exporter": "python",
   "pygments_lexer": "ipython3",
   "version": "3.9.16"
  }
 },
 "nbformat": 4,
 "nbformat_minor": 2
}
