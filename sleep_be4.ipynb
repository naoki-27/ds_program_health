{
 "cells": [
  {
   "cell_type": "markdown",
   "metadata": {},
   "source": [
    "# 初期設定"
   ]
  },
  {
   "cell_type": "code",
   "execution_count": 1,
   "metadata": {},
   "outputs": [],
   "source": [
    "import requests\n",
    "from bs4 import BeautifulSoup\n",
    "import numpy as np\n",
    "import re\n",
    "import time\n",
    "import pandas as pd\n",
    "from datetime import datetime"
   ]
  },
  {
   "cell_type": "code",
   "execution_count": 2,
   "metadata": {},
   "outputs": [
    {
     "data": {
      "text/plain": [
       "<Response [200]>"
      ]
     },
     "execution_count": 2,
     "metadata": {},
     "output_type": "execute_result"
    }
   ],
   "source": [
    "url = \"https://tenki.jp/indexes/sleep/3/16/4410/13208/\"\n",
    "\n",
    "r = requests.get(url)\n",
    "r"
   ]
  },
  {
   "cell_type": "code",
   "execution_count": 3,
   "metadata": {},
   "outputs": [],
   "source": [
    "html_soup = BeautifulSoup(r.text, 'html.parser')"
   ]
  },
  {
   "cell_type": "markdown",
   "metadata": {},
   "source": [
    "# 抽出test"
   ]
  },
  {
   "cell_type": "markdown",
   "metadata": {},
   "source": [
    "## 日付"
   ]
  },
  {
   "cell_type": "code",
   "execution_count": 12,
   "metadata": {},
   "outputs": [
    {
     "name": "stdout",
     "output_type": "stream",
     "text": [
      "2023-12-28\n"
     ]
    }
   ],
   "source": [
    "date = html_soup.find_all('h3', class_=\"left-style\")\n",
    "date = date[0].text\n",
    "date\n",
    "\n",
    "# 正規表現パターンを定義\n",
    "pattern = r\"(\\d+)月(\\d+)日\"\n",
    "\n",
    "# 正規表現にマッチする部分を抽出\n",
    "match = re.search(pattern, date)\n",
    "\n",
    "if match:\n",
    "    # マッチした部分を取り出し、intに変換\n",
    "    month = int(match.group(1))\n",
    "    day = int(match.group(2))\n",
    "\n",
    "    # 現在の年を取得\n",
    "    current_year = datetime.now().year\n",
    "\n",
    "    # date型に変換\n",
    "    date_result = datetime(current_year, month, day).date()\n",
    "\n",
    "    print(date_result)\n",
    "else:\n",
    "    print(\"nan\")\n"
   ]
  },
  {
   "cell_type": "markdown",
   "metadata": {},
   "source": [
    "## 全体"
   ]
  },
  {
   "cell_type": "code",
   "execution_count": 13,
   "metadata": {},
   "outputs": [
    {
     "data": {
      "text/plain": [
       "[<section class=\"today-weather\"><!-- 今日の天気 -->\n",
       " <!-- date -->\n",
       " <h3 class=\"left-style\">今日 12月28日<span>(木)</span></h3>\n",
       " <!-- /date -->\n",
       " <div class=\"indexes-weather-wrap clearfix\">\n",
       " <div class=\"clearfix\">\n",
       " <!-- today index -->\n",
       " <div class=\"indexes-icon-box\">\n",
       " <img alt=\"暖房は必須！\" height=\"60\" src=\"https://static.tenki.jp/images/icon/indexes/sleep/icon-large-1.png\" width=\"60\"/>\n",
       " <span class=\"indexes-telop-0\">暖房は必須！</span>\n",
       " </div>\n",
       " <!-- /today index -->\n",
       " <!-- today forecast -->\n",
       " <div class=\"weather-icon-box\">\n",
       " <img alt=\"晴\" height=\"30\" src=\"https://static.tenki.jp/images/icon/forecast-days-weather/01.png\" width=\"47\"/>\n",
       " <p class=\"weather-telop\">晴</p>\n",
       " <p class=\"indexes-weather-date-value\">\n",
       " <span class=\"high-temp\">11℃</span>\n",
       " <span>/</span>\n",
       " <span class=\"low-temp\">4℃</span>\n",
       " <span class=\"precip\">0%</span>\n",
       " </p>\n",
       " </div>\n",
       " <!-- /today forecast -->\n",
       " </div>\n",
       " <p class=\"indexes-telop-1\">夜も寒く、翌朝の冷込みは危険</p>\n",
       " </div>\n",
       " </section>]"
      ]
     },
     "execution_count": 13,
     "metadata": {},
     "output_type": "execute_result"
    }
   ],
   "source": [
    "today_sleep = html_soup.find_all('section', class_=\"today-weather\")\n",
    "today_sleep"
   ]
  },
  {
   "cell_type": "markdown",
   "metadata": {},
   "source": [
    "## 睡眠指数"
   ]
  },
  {
   "cell_type": "code",
   "execution_count": 36,
   "metadata": {},
   "outputs": [
    {
     "name": "stdout",
     "output_type": "stream",
     "text": [
      "1\n"
     ]
    }
   ],
   "source": [
    "sleep_point = html_soup.find_all('div', class_=\"indexes-icon-box\")\n",
    "sleep_point = sleep_point[0]\n",
    "sleep_point = sleep_point.find('img')\n",
    "sleep_point = sleep_point.get('src')\n",
    "pattern = r'icon-large-(\\d+)\\.png'\n",
    "match = re.search(pattern, sleep_point)\n",
    "if match:\n",
    "    # マッチした部分を取り出し\n",
    "    number = match.group(1)\n",
    "    print(number)\n",
    "else:\n",
    "    print(\"src属性からマッチする部分が見つかりませんでした\")"
   ]
  },
  {
   "cell_type": "markdown",
   "metadata": {},
   "source": [
    "## 気象条件"
   ]
  },
  {
   "cell_type": "code",
   "execution_count": 42,
   "metadata": {},
   "outputs": [
    {
     "data": {
      "text/plain": [
       "<div class=\"weather-icon-box\">\n",
       "<img alt=\"晴\" height=\"30\" src=\"https://static.tenki.jp/images/icon/forecast-days-weather/01.png\" width=\"47\"/>\n",
       "<p class=\"weather-telop\">晴</p>\n",
       "<p class=\"indexes-weather-date-value\">\n",
       "<span class=\"high-temp\">11℃</span>\n",
       "<span>/</span>\n",
       "<span class=\"low-temp\">4℃</span>\n",
       "<span class=\"precip\">0%</span>\n",
       "</p>\n",
       "</div>"
      ]
     },
     "execution_count": 42,
     "metadata": {},
     "output_type": "execute_result"
    }
   ],
   "source": [
    "weather = html_soup.find_all('div', class_=\"weather-icon-box\")\n",
    "weather = weather[0]\n",
    "weather"
   ]
  },
  {
   "cell_type": "code",
   "execution_count": 45,
   "metadata": {},
   "outputs": [
    {
     "name": "stdout",
     "output_type": "stream",
     "text": [
      "11℃\n",
      "4℃\n",
      "0%\n"
     ]
    }
   ],
   "source": [
    "high_temp = weather.find('span', class_ = \"high-temp\").text\n",
    "low_temp = weather.find('span', class_ = \"low-temp\").text\n",
    "precip = weather.find('span', class_ = \"precip\").text\n",
    "print(high_temp)\n",
    "print(low_temp)\n",
    "print(precip)"
   ]
  },
  {
   "cell_type": "code",
   "execution_count": 46,
   "metadata": {},
   "outputs": [
    {
     "data": {
      "text/plain": [
       "'晴'"
      ]
     },
     "execution_count": 46,
     "metadata": {},
     "output_type": "execute_result"
    }
   ],
   "source": [
    "weather_climate = weather.find('p', class_=\"weather-telop\").text\n",
    "weather_climate"
   ]
  },
  {
   "cell_type": "markdown",
   "metadata": {},
   "source": [
    "## コメント"
   ]
  },
  {
   "cell_type": "code",
   "execution_count": 48,
   "metadata": {},
   "outputs": [
    {
     "data": {
      "text/plain": [
       "[<p class=\"indexes-telop-1\">夜も寒く、翌朝の冷込みは危険</p>,\n",
       " <p class=\"indexes-telop-1\">夜も寒く、翌朝の冷込みは危険</p>,\n",
       " <p class=\"indexes-telop-1 grey\">夜も寒く、翌朝の冷込みは危険</p>,\n",
       " <p class=\"indexes-telop-1 grey\">翌朝、寒ければ部屋を暖めて</p>,\n",
       " <p class=\"indexes-telop-1 grey\">夜も寒く、翌朝の冷込みは危険</p>,\n",
       " <p class=\"indexes-telop-1 grey\">夜も寒く、翌朝の冷込みは危険</p>,\n",
       " <p class=\"indexes-telop-1 grey\">夜は少し寒そう、起床前は暖房を</p>,\n",
       " <p class=\"indexes-telop-1 grey\">夜も寒く、翌朝の冷込みは危険</p>,\n",
       " <p class=\"indexes-telop-1 grey\">夜も寒く、翌朝の冷込みは危険</p>,\n",
       " <p class=\"indexes-telop-1 grey\">夜も寒く、翌朝の冷込みは危険</p>]"
      ]
     },
     "execution_count": 48,
     "metadata": {},
     "output_type": "execute_result"
    }
   ],
   "source": [
    "coment = html_soup.find_all('p', class_=\"indexes-telop-1\")\n",
    "coment"
   ]
  },
  {
   "cell_type": "markdown",
   "metadata": {},
   "source": [
    "# 結合"
   ]
  },
  {
   "cell_type": "code",
   "execution_count": 4,
   "metadata": {},
   "outputs": [
    {
     "name": "stdout",
     "output_type": "stream",
     "text": [
      "{'date': datetime.date(2023, 12, 29), 'sleep_point': 1.0, 'high_temperature': 14.0, 'low_temperature': 1.0, 'precip': 0.0, 'weather': '晴', 'coment': '夜も寒く、翌朝の冷込みは危険'}\n"
     ]
    }
   ],
   "source": [
    "today_sleep = html_soup.find('section', class_=\"today-weather\")\n",
    "\n",
    "date = today_sleep.find('h3', class_=\"left-style\").text\n",
    "# 正規表現パターンを定義\n",
    "date_pattern = r\"(\\d+)月(\\d+)日\"\n",
    "\n",
    "# 正規表現にマッチする部分を抽出\n",
    "date_match = re.search(date_pattern, date)\n",
    "\n",
    "if date_match:\n",
    "    # マッチした部分を取り出し、intに変換\n",
    "    month = int(date_match.group(1))\n",
    "    day = int(date_match.group(2))\n",
    "    # 現在の年を取得\n",
    "    current_year = datetime.now().year\n",
    "    # date型に変換\n",
    "    date_result = datetime(current_year, month, day).date()\n",
    "else:\n",
    "    date_result = None\n",
    "\n",
    "\n",
    "sleep_point = today_sleep.find('div', class_='indexes-icon-box').find('img').get('src')\n",
    "sleep_pattern = r'icon-large-(\\d+)\\.png'\n",
    "sleep_match = re.search(sleep_pattern, sleep_point)\n",
    "if sleep_match:\n",
    "    # マッチした部分を取り出し\n",
    "    sleep_point_result = float(sleep_match.group(1))\n",
    "\n",
    "else:\n",
    "    sleep_point_result = None\n",
    "\n",
    "\n",
    "weather = today_sleep.find('div', class_=\"weather-icon-box\")\n",
    "high_temp = float(weather.find('span', class_ = \"high-temp\").text.replace('℃',''))\n",
    "low_temp = float(weather.find('span', class_ = \"low-temp\").text.replace('℃',''))\n",
    "precip = float(weather.find('span', class_ = \"precip\").text.replace('%',''))\n",
    "weather_climate = weather.find('p', class_=\"weather-telop\").text\n",
    "coment = today_sleep.find('p', class_=\"indexes-telop-1\").text\n",
    "\n",
    "sleep_dict = {}\n",
    "\n",
    "sleep_dict = {\n",
    "    \"date\": date_result,\n",
    "    \"sleep_point\": sleep_point_result,\n",
    "    \"high_temperature\": high_temp,\n",
    "    \"low_temperature\": low_temp,\n",
    "    \"precip\": precip,\n",
    "    \"weather\": weather_climate,\n",
    "    \"coment\": coment\n",
    "}\n",
    "\n",
    "\n",
    "print(sleep_dict)\n",
    "\n"
   ]
  },
  {
   "cell_type": "markdown",
   "metadata": {},
   "source": [
    "# データベース"
   ]
  },
  {
   "cell_type": "code",
   "execution_count": 12,
   "metadata": {},
   "outputs": [],
   "source": [
    "import sqlite3"
   ]
  },
  {
   "cell_type": "code",
   "execution_count": 74,
   "metadata": {},
   "outputs": [
    {
     "name": "stdout",
     "output_type": "stream",
     "text": [
      "/Users/naoki/Lecture/ds_program_health\n"
     ]
    }
   ],
   "source": [
    "!pwd"
   ]
  },
  {
   "cell_type": "code",
   "execution_count": 85,
   "metadata": {},
   "outputs": [
    {
     "data": {
      "text/plain": [
       "<sqlite3.Cursor at 0x1305b6c70>"
      ]
     },
     "execution_count": 85,
     "metadata": {},
     "output_type": "execute_result"
    }
   ],
   "source": [
    "# # テーブルを削除するSQL文\n",
    "# sql_drop_table = 'DROP TABLE IF EXISTS test;'\n",
    "\n",
    "# # テーブルを削除\n",
    "# cur.execute(sql_drop_table)"
   ]
  },
  {
   "cell_type": "code",
   "execution_count": 13,
   "metadata": {},
   "outputs": [
    {
     "data": {
      "text/plain": [
       "<sqlite3.Cursor at 0x12fae1880>"
      ]
     },
     "execution_count": 13,
     "metadata": {},
     "output_type": "execute_result"
    }
   ],
   "source": [
    "# DBファイルを保存するためのファイルパス\n",
    "path = '/Users/naoki/Lecture/ds_program_health/'\n",
    "\n",
    "# DBファイル名\n",
    "db_name = 'sleep.sqlite'\n",
    "\n",
    "# DBに接続する\n",
    "con = sqlite3.connect(path + db_name)\n",
    "\n",
    "# SQLを実行するためのオブジェクトを取得\n",
    "cur = con.cursor()\n",
    "\n",
    "# テーブルを作成するSQL\n",
    "# # CREATE TABLE テーブル名（カラム名 型，...）;\n",
    "sql_create_table_DSprogHW = 'CREATE TABLE sleep(date DATE, sleep_point REAL, high_temperature REAL, low_temperature REAL, precip REAL, weather TEXT, coment TEXT);'\n",
    "\n",
    "# # 4．SQLを実行する\n",
    "cur.execute(sql_create_table_DSprogHW)"
   ]
  },
  {
   "cell_type": "code",
   "execution_count": 9,
   "metadata": {},
   "outputs": [],
   "source": [
    "sql_insert_data = 'INSERT INTO test (date, sleep_point, high_temperature, low_temperature, precip, weather, coment)VALUES (?, ?, ?, ?, ?, ?, ?);'\n",
    "\n",
    "\n",
    "cur.execute(sql_insert_data, (\n",
    "    sleep_dict[\"date\"],\n",
    "    sleep_dict[\"sleep_point\"],\n",
    "    sleep_dict[\"high_temperature\"],\n",
    "    sleep_dict[\"low_temperature\"],\n",
    "    sleep_dict[\"precip\"],\n",
    "    sleep_dict[\"weather\"],\n",
    "    sleep_dict[\"coment\"]\n",
    "))\n",
    "\n",
    "# 変更をコミット\n",
    "con.commit()"
   ]
  },
  {
   "cell_type": "code",
   "execution_count": 10,
   "metadata": {},
   "outputs": [
    {
     "name": "stdout",
     "output_type": "stream",
     "text": [
      "('2023-12-28', 1.0, 11.0, 4.0, 0.0, '晴', '夜も寒く、翌朝の冷込みは危険')\n",
      "('2023-12-29', 1.0, 14.0, 1.0, 0.0, '晴', '夜も寒く、翌朝の冷込みは危険')\n"
     ]
    }
   ],
   "source": [
    "# データを選択するSQLコマンド\n",
    "sql_select_data = 'SELECT * FROM test;'\n",
    "cur.execute(sql_select_data)\n",
    "\n",
    "# すべての結果を取得\n",
    "all_results = cur.fetchall()\n",
    "\n",
    "# 結果を表示\n",
    "for result in all_results:\n",
    "    print(result)\n",
    "\n",
    "# データベース接続を閉じる\n",
    "con.close()"
   ]
  },
  {
   "cell_type": "code",
   "execution_count": null,
   "metadata": {},
   "outputs": [],
   "source": []
  }
 ],
 "metadata": {
  "kernelspec": {
   "display_name": "ds_program_health",
   "language": "python",
   "name": "python3"
  },
  "language_info": {
   "codemirror_mode": {
    "name": "ipython",
    "version": 3
   },
   "file_extension": ".py",
   "mimetype": "text/x-python",
   "name": "python",
   "nbconvert_exporter": "python",
   "pygments_lexer": "ipython3",
   "version": "3.9.16"
  }
 },
 "nbformat": 4,
 "nbformat_minor": 2
}
