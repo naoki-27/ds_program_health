{
 "cells": [
  {
   "cell_type": "markdown",
   "metadata": {},
   "source": [
    "## sleep"
   ]
  },
  {
   "cell_type": "code",
   "execution_count": 19,
   "metadata": {},
   "outputs": [],
   "source": [
    "import pandas as pd"
   ]
  },
  {
   "cell_type": "code",
   "execution_count": 20,
   "metadata": {},
   "outputs": [],
   "source": [
    "df_sleep = pd.read_csv('/Users/naoki/Lecture/ds_program_health/sleep_data.csv')"
   ]
  },
  {
   "cell_type": "code",
   "execution_count": 21,
   "metadata": {},
   "outputs": [
    {
     "data": {
      "text/html": [
       "<div>\n",
       "<style scoped>\n",
       "    .dataframe tbody tr th:only-of-type {\n",
       "        vertical-align: middle;\n",
       "    }\n",
       "\n",
       "    .dataframe tbody tr th {\n",
       "        vertical-align: top;\n",
       "    }\n",
       "\n",
       "    .dataframe thead th {\n",
       "        text-align: right;\n",
       "    }\n",
       "</style>\n",
       "<table border=\"1\" class=\"dataframe\">\n",
       "  <thead>\n",
       "    <tr style=\"text-align: right;\">\n",
       "      <th></th>\n",
       "      <th>日付</th>\n",
       "      <th>就床時刻</th>\n",
       "      <th>入眠時刻</th>\n",
       "      <th>鳴動時刻</th>\n",
       "      <th>起床時刻</th>\n",
       "      <th>就床時間</th>\n",
       "      <th>睡眠時間</th>\n",
       "      <th>覚醒時間</th>\n",
       "      <th>入眠潜時</th>\n",
       "      <th>中途覚醒</th>\n",
       "      <th>スヌーズ</th>\n",
       "      <th>睡眠効率</th>\n",
       "      <th>快眠スコア</th>\n",
       "    </tr>\n",
       "  </thead>\n",
       "  <tbody>\n",
       "    <tr>\n",
       "      <th>0</th>\n",
       "      <td>2024/01/14</td>\n",
       "      <td>0:21</td>\n",
       "      <td>0:31</td>\n",
       "      <td>8:13</td>\n",
       "      <td>8:39</td>\n",
       "      <td>8時間17分21秒</td>\n",
       "      <td>7時間57分21秒</td>\n",
       "      <td>20分0秒</td>\n",
       "      <td>9分13秒</td>\n",
       "      <td>3</td>\n",
       "      <td>2</td>\n",
       "      <td>96.0 %</td>\n",
       "      <td>86.9</td>\n",
       "    </tr>\n",
       "    <tr>\n",
       "      <th>1</th>\n",
       "      <td>2024/01/13</td>\n",
       "      <td>0:24</td>\n",
       "      <td>0:34</td>\n",
       "      <td>6:40</td>\n",
       "      <td>7:04</td>\n",
       "      <td>6時間40分4秒</td>\n",
       "      <td>6時間29分4秒</td>\n",
       "      <td>11分0秒</td>\n",
       "      <td>9分27秒</td>\n",
       "      <td>0</td>\n",
       "      <td>2</td>\n",
       "      <td>97.3 %</td>\n",
       "      <td>98.5</td>\n",
       "    </tr>\n",
       "    <tr>\n",
       "      <th>2</th>\n",
       "      <td>2024/01/11</td>\n",
       "      <td>23:46</td>\n",
       "      <td>23:56</td>\n",
       "      <td>7:20</td>\n",
       "      <td>7:25</td>\n",
       "      <td>7時間38分36秒</td>\n",
       "      <td>7時間22分36秒</td>\n",
       "      <td>16分0秒</td>\n",
       "      <td>9分36秒</td>\n",
       "      <td>1</td>\n",
       "      <td>0</td>\n",
       "      <td>96.5 %</td>\n",
       "      <td>86.0</td>\n",
       "    </tr>\n",
       "    <tr>\n",
       "      <th>3</th>\n",
       "      <td>2024/01/10</td>\n",
       "      <td>4:16</td>\n",
       "      <td>4:26</td>\n",
       "      <td>8:35</td>\n",
       "      <td>8:36</td>\n",
       "      <td>4時間19分46秒</td>\n",
       "      <td>4時間7分46秒</td>\n",
       "      <td>12分0秒</td>\n",
       "      <td>9分33秒</td>\n",
       "      <td>0</td>\n",
       "      <td>0</td>\n",
       "      <td>95.4 %</td>\n",
       "      <td>91.8</td>\n",
       "    </tr>\n",
       "    <tr>\n",
       "      <th>4</th>\n",
       "      <td>2024/01/09</td>\n",
       "      <td>0:40</td>\n",
       "      <td>1:13</td>\n",
       "      <td>8:20</td>\n",
       "      <td>8:42</td>\n",
       "      <td>8時間2分5秒</td>\n",
       "      <td>7時間19分5秒</td>\n",
       "      <td>43分0秒</td>\n",
       "      <td>32分14秒</td>\n",
       "      <td>3</td>\n",
       "      <td>1</td>\n",
       "      <td>91.1 %</td>\n",
       "      <td>74.0</td>\n",
       "    </tr>\n",
       "  </tbody>\n",
       "</table>\n",
       "</div>"
      ],
      "text/plain": [
       "           日付   就床時刻   入眠時刻  鳴動時刻  起床時刻       就床時間       睡眠時間   覚醒時間    入眠潜時  \\\n",
       "0  2024/01/14   0:21   0:31  8:13  8:39  8時間17分21秒  7時間57分21秒  20分0秒   9分13秒   \n",
       "1  2024/01/13   0:24   0:34  6:40  7:04   6時間40分4秒   6時間29分4秒  11分0秒   9分27秒   \n",
       "2  2024/01/11  23:46  23:56  7:20  7:25  7時間38分36秒  7時間22分36秒  16分0秒   9分36秒   \n",
       "3  2024/01/10   4:16   4:26  8:35  8:36  4時間19分46秒   4時間7分46秒  12分0秒   9分33秒   \n",
       "4  2024/01/09   0:40   1:13  8:20  8:42    8時間2分5秒   7時間19分5秒  43分0秒  32分14秒   \n",
       "\n",
       "   中途覚醒  スヌーズ    睡眠効率  快眠スコア  \n",
       "0     3     2  96.0 %   86.9  \n",
       "1     0     2  97.3 %   98.5  \n",
       "2     1     0  96.5 %   86.0  \n",
       "3     0     0  95.4 %   91.8  \n",
       "4     3     1  91.1 %   74.0  "
      ]
     },
     "execution_count": 21,
     "metadata": {},
     "output_type": "execute_result"
    }
   ],
   "source": [
    "df_sleep.head()"
   ]
  },
  {
   "cell_type": "code",
   "execution_count": null,
   "metadata": {},
   "outputs": [],
   "source": []
  }
 ],
 "metadata": {
  "kernelspec": {
   "display_name": "ds_program_health",
   "language": "python",
   "name": "python3"
  },
  "language_info": {
   "codemirror_mode": {
    "name": "ipython",
    "version": 3
   },
   "file_extension": ".py",
   "mimetype": "text/x-python",
   "name": "python",
   "nbconvert_exporter": "python",
   "pygments_lexer": "ipython3",
   "version": "3.9.16"
  }
 },
 "nbformat": 4,
 "nbformat_minor": 2
}
